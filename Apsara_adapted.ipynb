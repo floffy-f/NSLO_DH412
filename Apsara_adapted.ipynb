{
 "cells": [
  {
   "cell_type": "code",
   "execution_count": 1,
   "id": "b9221d01",
   "metadata": {},
   "outputs": [],
   "source": [
    "import ujson as json\n",
    "import numpy as np\n",
    "import scipy as sc\n",
    "import matplotlib.pyplot as plt\n",
    "import sklearn.cluster as clstr\n",
    "import scipy.sparse as sp\n",
    "plt.rcParams['figure.figsize'] = [10, 10]"
   ]
  },
  {
   "cell_type": "code",
   "execution_count": 2,
   "id": "400a9db5",
   "metadata": {},
   "outputs": [],
   "source": [
    "import seaborn as sb\n",
    "import pandas as pd\n",
    "import itertools"
   ]
  },
  {
   "cell_type": "code",
   "execution_count": 43,
   "id": "8a10dcf0",
   "metadata": {},
   "outputs": [],
   "source": [
    "json_files = ['2_train.json', '2_test.json']\n",
    "positions = []\n",
    "grottoes = []\n",
    "files = []\n",
    "ARTIC_NAMES = {'foot 1': 0,\n",
    "               'foot 2': 1,\n",
    "               'knee 1': 2,\n",
    "               'knee 2': 3,\n",
    "               'belly': 4,\n",
    "               'elbow 1': 5,\n",
    "               'elbow 2': 6,\n",
    "               'hand 1': 7,\n",
    "               'hand 2': 8,\n",
    "               'eye 1': 9,\n",
    "               'eye 2': 10,\n",
    "               'shoulder 1': 11,\n",
    "               'shoulder 2': 12}\n",
    "for f in json_files: \n",
    "    file = open(f)\n",
    "    data = json.load(file)\n",
    "    for i in range(0,len(data)):\n",
    "        apsara = data[i]\n",
    "        files.append(apsara['apsaras']['file'])\n",
    "        grottoes.append(apsara['apsaras']['grottoe'])\n",
    "        access = apsara['apsaras']['positions']\n",
    "        position = []\n",
    "        for articulation in ARTIC_NAMES.keys():\n",
    "            position.append(access[articulation])\n",
    "        positions.append(position)\n",
    "        \n",
    "positions = np.array(positions)"
   ]
  },
  {
   "cell_type": "code",
   "execution_count": 44,
   "id": "4aa9ec19",
   "metadata": {},
   "outputs": [
    {
     "data": {
      "text/plain": [
       "(124, 13, 2)"
      ]
     },
     "execution_count": 44,
     "metadata": {},
     "output_type": "execute_result"
    }
   ],
   "source": [
    "positions.shape"
   ]
  },
  {
   "cell_type": "code",
   "execution_count": null,
   "id": "b7c7b712",
   "metadata": {},
   "outputs": [],
   "source": []
  }
 ],
 "metadata": {
  "kernelspec": {
   "display_name": "Python 3 (ipykernel)",
   "language": "python",
   "name": "python3"
  },
  "language_info": {
   "codemirror_mode": {
    "name": "ipython",
    "version": 3
   },
   "file_extension": ".py",
   "mimetype": "text/x-python",
   "name": "python",
   "nbconvert_exporter": "python",
   "pygments_lexer": "ipython3",
   "version": "3.8.11"
  }
 },
 "nbformat": 4,
 "nbformat_minor": 5
}
